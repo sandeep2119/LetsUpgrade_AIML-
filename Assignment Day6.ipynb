{
 "cells": [
  {
   "cell_type": "markdown",
   "metadata": {},
   "source": [
    "## Question 1: Assuming that we have some email addresses in the \"username@companyname.com\" format, please write a program to print the company name of a given email address. Both user names and company names are composed of letters only.\n",
    "## Input Format:\n",
    "The first line of the input contains an email address.\n",
    "## Output Format:\n",
    "Print the company name in a single line.\n",
    "## Example;\n",
    "Input:\n",
    "john@google.com\n",
    "Output:\n",
    "google."
   ]
  },
  {
   "cell_type": "code",
   "execution_count": 2,
   "metadata": {},
   "outputs": [
    {
     "name": "stdout",
     "output_type": "stream",
     "text": [
      "amazon\n"
     ]
    }
   ],
   "source": [
    "string = 'sandeep@amazon.com'\n",
    "\n",
    "x = string.split('@')[1].split('.')[0]\n",
    "print(x)"
   ]
  },
  {
   "cell_type": "markdown",
   "metadata": {},
   "source": [
    "## Question 2: Write a program that accepts a comma-separated sequence of words as input and prints the words in a comma-separated sequence after sorting them alphabetically.\n",
    "## Input Format:\n",
    "The first line of input contains words separated by the comma.\n",
    "## Output Format:\n",
    "Print the sorted words separated by the comma.\n",
    "## Example:\n",
    "### Input:\n",
    "without,hello,bag,world\n",
    "### Output:\n",
    "bag,hello,without,world"
   ]
  },
  {
   "cell_type": "code",
   "execution_count": 23,
   "metadata": {},
   "outputs": [
    {
     "name": "stdout",
     "output_type": "stream",
     "text": [
      "Enter words seperated by comma without,hello,bag,world\n",
      "The words in sorted order:  bag,hello,without,world\n"
     ]
    }
   ],
   "source": [
    "lst = []\n",
    "str_words = input('Enter words seperated by comma ')\n",
    "x = str_words.split(',')\n",
    "x.sort()\n",
    "\n",
    "for i in x:\n",
    "    lst.append(i)   \n",
    "\n",
    "print('The words in sorted order: ',','.join(lst))"
   ]
  },
  {
   "cell_type": "markdown",
   "metadata": {},
   "source": [
    "## Question 3: Create your own Jupyter Notebook for Sets. Reference link:\n",
    "### https://www.w3schools.com/python/python_sets.asp"
   ]
  },
  {
   "cell_type": "code",
   "execution_count": 5,
   "metadata": {},
   "outputs": [
    {
     "name": "stdout",
     "output_type": "stream",
     "text": [
      "{'bikes', 'planes', 'cars'}\n"
     ]
    }
   ],
   "source": [
    "# Set is a collection like list and tuple, which are unordered and unindexed. Sets are represented in { } braces.\n",
    "\n",
    "# As it says sets are unordered, we camnot predict its order. The items in set will appear in random order. for example:\n",
    "\n",
    "x = {'cars', 'bikes','planes'}\n",
    "print(x)"
   ]
  },
  {
   "cell_type": "code",
   "execution_count": 6,
   "metadata": {},
   "outputs": [],
   "source": [
    "# Set has built-in methods to make ease for developers. It has a quite a good number of methods which makes things easier."
   ]
  },
  {
   "cell_type": "markdown",
   "metadata": {},
   "source": [
    "#### Set Methods:"
   ]
  },
  {
   "cell_type": "code",
   "execution_count": 7,
   "metadata": {},
   "outputs": [
    {
     "name": "stdout",
     "output_type": "stream",
     "text": [
      "{'Ford', 'Audi', 'Skoda', 'Volkswagen'}\n"
     ]
    }
   ],
   "source": [
    "# If a set is created once you cannot change its items, but u can add items using add().\n",
    "sets = {'Volkswagen','Skoda','Audi'}\n",
    "sets.add('Ford')\n",
    "print(sets)"
   ]
  },
  {
   "cell_type": "code",
   "execution_count": 8,
   "metadata": {},
   "outputs": [
    {
     "name": "stdout",
     "output_type": "stream",
     "text": [
      "{'Audi', 'Skoda', 'Volkswagen'}\n"
     ]
    }
   ],
   "source": [
    "# You can make a copy of set using copy().\n",
    "sets = {'Volkswagen','Skoda','Audi'}\n",
    "sets.copy()\n",
    "print(sets)"
   ]
  },
  {
   "cell_type": "code",
   "execution_count": 9,
   "metadata": {},
   "outputs": [
    {
     "name": "stdout",
     "output_type": "stream",
     "text": [
      "{'Audi', 'ford'}\n"
     ]
    }
   ],
   "source": [
    "# Return a set that contains the items that only exist in sets , and not in sets1\n",
    "\n",
    "sets = {'Volkswagen','Skoda','Audi','ford'}\n",
    "sets1 = {'Skoda','Volkswagen','Bmw','Benz'}\n",
    "x = sets.difference(sets1)\n",
    "print(x) "
   ]
  },
  {
   "cell_type": "code",
   "execution_count": 10,
   "metadata": {},
   "outputs": [
    {
     "name": "stdout",
     "output_type": "stream",
     "text": [
      "{'Audi'}\n"
     ]
    }
   ],
   "source": [
    "#\n",
    "sets = {'Volkswagen','Skoda','Audi'}\n",
    "sets1 = {'Volkswagen','Bmw','Benz','Skoda'}\n",
    "sets.difference_update(sets1)\n",
    "print(sets)"
   ]
  },
  {
   "cell_type": "code",
   "execution_count": 11,
   "metadata": {},
   "outputs": [
    {
     "name": "stdout",
     "output_type": "stream",
     "text": [
      "{'Skoda', 'Volkswagen'}\n"
     ]
    }
   ],
   "source": [
    "# discard() removes the specified item from the set and returns remaining items in the set.\n",
    "sets = {'Volkswagen','Skoda','Audi'}\n",
    "sets.discard('Audi')\n",
    "print(sets)"
   ]
  },
  {
   "cell_type": "code",
   "execution_count": 12,
   "metadata": {},
   "outputs": [
    {
     "name": "stdout",
     "output_type": "stream",
     "text": [
      "{'Skoda', 'Volkswagen'}\n"
     ]
    }
   ],
   "source": [
    "# intersection() returns a set that contains the common items from both the sets.\n",
    "sets = {'Volkswagen','Skoda','Audi'}\n",
    "sets1 = {'Volkswagen','Bmw','Benz','Skoda'}\n",
    "x = sets.intersection(sets1)\n",
    "print(x)"
   ]
  },
  {
   "cell_type": "code",
   "execution_count": 13,
   "metadata": {},
   "outputs": [
    {
     "name": "stdout",
     "output_type": "stream",
     "text": [
      "{'Volkswagen'}\n"
     ]
    }
   ],
   "source": [
    "# it works same as intersection() method it takes 3 sets to find the common items contains from the 3 sets.\n",
    "sets = {'Volkswagen','Skoda','Audi'}\n",
    "sets1 = {'Volkswagen','Bmw','Benz','Skoda'}\n",
    "sets2 = {'Polo','Figo','Volkswagen'}\n",
    "sets.intersection_update(sets1,sets2)\n",
    "print(sets)"
   ]
  },
  {
   "cell_type": "code",
   "execution_count": 14,
   "metadata": {},
   "outputs": [
    {
     "name": "stdout",
     "output_type": "stream",
     "text": [
      "False\n"
     ]
    }
   ],
   "source": [
    "# Returns True if no items in sets is present in sets1 else it returns False.\n",
    "sets = {'Volkswagen','Skoda','Audi'}\n",
    "sets1 = {'Volkswagen','Bmw','Benz','Skoda'}\n",
    "x = sets.isdisjoint(sets1)\n",
    "print(x)  \n"
   ]
  },
  {
   "cell_type": "code",
   "execution_count": 15,
   "metadata": {},
   "outputs": [
    {
     "name": "stdout",
     "output_type": "stream",
     "text": [
      "False\n"
     ]
    }
   ],
   "source": [
    "# Return True only if all items present in sets  are present in sets1\n",
    "sets1 = {'Volkswagen','Skoda','Audi'}\n",
    "sets = {'Volkswagen','Bmw','Benz','Skoda','Audi'}\n",
    "x = sets.issubset(sets1)\n",
    "print(x) "
   ]
  },
  {
   "cell_type": "code",
   "execution_count": 16,
   "metadata": {},
   "outputs": [
    {
     "name": "stdout",
     "output_type": "stream",
     "text": [
      "True\n"
     ]
    }
   ],
   "source": [
    " # Return True only if all items present in sets1 are present in sets\n",
    "sets = {'Volkswagen','Bmw','Benz','Skoda','Audi'}\n",
    "sets1 = {'Volkswagen','Skoda','Audi'}\n",
    "x = sets.issuperset(sets1)\n",
    "print(x)"
   ]
  },
  {
   "cell_type": "code",
   "execution_count": 17,
   "metadata": {},
   "outputs": [
    {
     "name": "stdout",
     "output_type": "stream",
     "text": [
      "{'3', '2'}\n"
     ]
    }
   ],
   "source": [
    "# pop() method removes the item. As set is unordered the output is random.\n",
    "sets = {'1','2','3'}\n",
    "sets.pop()\n",
    "print(sets)"
   ]
  },
  {
   "cell_type": "code",
   "execution_count": 18,
   "metadata": {},
   "outputs": [
    {
     "name": "stdout",
     "output_type": "stream",
     "text": [
      "{'Bmw', 'Volkswagen', 'Skoda', 'Benz'}\n"
     ]
    }
   ],
   "source": [
    "# remove() method removes the specific item from the set. and the output is always random.\n",
    "sets = {'Volkswagen','Bmw','Benz','Skoda','Audi'}\n",
    "sets.remove('Audi')\n",
    "print(sets)"
   ]
  },
  {
   "cell_type": "code",
   "execution_count": 19,
   "metadata": {},
   "outputs": [
    {
     "name": "stdout",
     "output_type": "stream",
     "text": [
      "{'Bmw', 'Benz'}\n"
     ]
    }
   ],
   "source": [
    "# Return a set that contains all items from both sets, except items that are present in both sets\n",
    "sets = {'Volkswagen','Bmw','Benz','Skoda','Audi'}\n",
    "sets1 = {'Volkswagen','Skoda','Audi'}\n",
    "x  = sets.symmetric_difference(sets1)\n",
    "print(x) "
   ]
  },
  {
   "cell_type": "code",
   "execution_count": 20,
   "metadata": {},
   "outputs": [
    {
     "name": "stdout",
     "output_type": "stream",
     "text": [
      "{'Bmw', 'Benz'}\n"
     ]
    }
   ],
   "source": [
    "# Removes items contains in both the sets and returns the remaining items from both the sets.\n",
    "sets = {'Volkswagen','Bmw','Benz','Skoda','Audi'}\n",
    "sets1 = {'Volkswagen','Skoda','Audi'}\n",
    "sets.symmetric_difference_update(sets1)\n",
    "print(sets) "
   ]
  },
  {
   "cell_type": "code",
   "execution_count": 21,
   "metadata": {},
   "outputs": [
    {
     "name": "stdout",
     "output_type": "stream",
     "text": [
      "{'Bmw', 'Volkswagen', 'Skoda', 'Ford', 'Audi', 'Benz'}\n"
     ]
    }
   ],
   "source": [
    "# union() method basically returns a set contains all the items after removing the duplicate items.\n",
    "sets = {'Volkswagen','Bmw','Benz','Skoda','Audi'}\n",
    "sets1 = {'Volkswagen','Skoda','Audi','Ford'}\n",
    "x = sets.union(sets1)\n",
    "print(x)"
   ]
  },
  {
   "cell_type": "code",
   "execution_count": 22,
   "metadata": {},
   "outputs": [
    {
     "name": "stdout",
     "output_type": "stream",
     "text": [
      "{'Volkswagen', 'Skoda', 'Bmw', 'Audi', 'Benz'}\n"
     ]
    }
   ],
   "source": [
    "# update() method updates the items from both the sets, no duplicates.\n",
    "sets = {'Volkswagen','Skoda','Audi'}\n",
    "sets1 = {'Volkswagen','Bmw','Benz','Skoda'}\n",
    "sets.update(sets1)\n",
    "print(sets)"
   ]
  },
  {
   "cell_type": "code",
   "execution_count": 23,
   "metadata": {},
   "outputs": [
    {
     "name": "stdout",
     "output_type": "stream",
     "text": [
      "set()\n"
     ]
    }
   ],
   "source": [
    "# clear() method will wipe out all the items from the set and returns an empty set.\n",
    "sets = {'Volkswagen','Skoda','Audi'}\n",
    "sets.clear()\n",
    "print(sets)"
   ]
  },
  {
   "cell_type": "markdown",
   "metadata": {},
   "source": [
    "## Question 4: Given a list of n-1 numbers ranging from 1 to n, your task is to find the missing number. There are no duplicates.\n",
    "### Input Format:\n",
    "The first line contains n-1 numbers with each number separated by a space.\n",
    "### Output Format:\n",
    "Print the missing number\n",
    "## Example:\n",
    "### Input:\n",
    "1 2 4 6 3 7 8\n",
    "### Output:\n",
    "5\n",
    "### Explanation:\n",
    "In the above list of numbers 5 is missing and hence 5 is the input"
   ]
  },
  {
   "cell_type": "code",
   "execution_count": 9,
   "metadata": {},
   "outputs": [
    {
     "name": "stdout",
     "output_type": "stream",
     "text": [
      "[5]\n"
     ]
    }
   ],
   "source": [
    "\n",
    "def missing_number(lst): \n",
    "    return [x for x in range(lst[0], lst[-1]+1)  \n",
    "                               if x not in lst] \n",
    " \n",
    "lst = [1, 2, 4, 6, 3, 7, 8] \n",
    "print(missing_number(lst))"
   ]
  },
  {
   "cell_type": "markdown",
   "metadata": {},
   "source": [
    "## Question 5: With a given list L, write a program to print this list L after removing all duplicate values with original order reserved.\n",
    "### Example:\n",
    "If the input list is\n",
    "12 24 35 24 88 120 155 88 120 155\n",
    "Then the output should be\n",
    "12 24 35 88 120 155\n",
    "### Explanation:\n",
    "Third, the seventh and ninth element of the list L has been removed because it was already present.\n",
    "### Input Format:\n",
    "In one line take the elements of the list L with each element separated by a space.\n",
    "### Output Format:\n",
    "Print the elements of the modified list in one line with each element separated by a space.\n",
    "## Example:\n",
    "### Input:\n",
    "12 24 35 24\n",
    "### Output:\n",
    "12 24 35"
   ]
  },
  {
   "cell_type": "code",
   "execution_count": 25,
   "metadata": {},
   "outputs": [
    {
     "name": "stdout",
     "output_type": "stream",
     "text": [
      "Enter the numbers: 12 24 35 24\n",
      "The output is 12 24 35\n"
     ]
    }
   ],
   "source": [
    "lst = input('Enter the numbers: ')\n",
    "li = lst.split(' ')\n",
    "\n",
    "for i in li:\n",
    "    limit = li.count(i)\n",
    "    if limit >= 2:\n",
    "        li.remove(i)\n",
    "li.sort()\n",
    "\n",
    "print('The output is',' '.join(li))"
   ]
  }
 ],
 "metadata": {
  "kernelspec": {
   "display_name": "Python 3",
   "language": "python",
   "name": "python3"
  },
  "language_info": {
   "codemirror_mode": {
    "name": "ipython",
    "version": 3
   },
   "file_extension": ".py",
   "mimetype": "text/x-python",
   "name": "python",
   "nbconvert_exporter": "python",
   "pygments_lexer": "ipython3",
   "version": "3.8.3"
  }
 },
 "nbformat": 4,
 "nbformat_minor": 4
}
